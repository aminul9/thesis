{
 "cells": [
  {
   "cell_type": "code",
   "execution_count": 2,
   "metadata": {},
   "outputs": [
    {
     "data": {
      "text/html": [
       "<div>\n",
       "<style scoped>\n",
       "    .dataframe tbody tr th:only-of-type {\n",
       "        vertical-align: middle;\n",
       "    }\n",
       "\n",
       "    .dataframe tbody tr th {\n",
       "        vertical-align: top;\n",
       "    }\n",
       "\n",
       "    .dataframe thead th {\n",
       "        text-align: right;\n",
       "    }\n",
       "</style>\n",
       "<table border=\"1\" class=\"dataframe\">\n",
       "  <thead>\n",
       "    <tr style=\"text-align: right;\">\n",
       "      <th></th>\n",
       "      <th>Time</th>\n",
       "      <th>Fault</th>\n",
       "    </tr>\n",
       "  </thead>\n",
       "  <tbody>\n",
       "    <tr>\n",
       "      <th>0</th>\n",
       "      <td>0</td>\n",
       "      <td>0</td>\n",
       "    </tr>\n",
       "    <tr>\n",
       "      <th>1</th>\n",
       "      <td>1</td>\n",
       "      <td>6</td>\n",
       "    </tr>\n",
       "    <tr>\n",
       "      <th>2</th>\n",
       "      <td>2</td>\n",
       "      <td>1</td>\n",
       "    </tr>\n",
       "    <tr>\n",
       "      <th>3</th>\n",
       "      <td>3</td>\n",
       "      <td>1</td>\n",
       "    </tr>\n",
       "    <tr>\n",
       "      <th>4</th>\n",
       "      <td>4</td>\n",
       "      <td>0</td>\n",
       "    </tr>\n",
       "  </tbody>\n",
       "</table>\n",
       "</div>"
      ],
      "text/plain": [
       "    Time  Fault\n",
       "0      0      0\n",
       "1      1      6\n",
       "2      2      1\n",
       "3      3      1\n",
       "4      4      0"
      ]
     },
     "execution_count": 2,
     "metadata": {},
     "output_type": "execute_result"
    }
   ],
   "source": [
    "import pandas as pd\n",
    "import numpy as np\n",
    "import math \n",
    "import matplotlib.pyplot as plt\n",
    "import seaborn as sns\n",
    "df=pd.read_csv('soft.csv');\n",
    "df.head(5)"
   ]
  },
  {
   "cell_type": "code",
   "execution_count": 3,
   "metadata": {},
   "outputs": [
    {
     "name": "stdout",
     "output_type": "stream",
     "text": [
      "0.07272727272727271\n",
      "2.0\n",
      "Input = 11 Ex= 0  Pr 2.80  Error= 2.80  in percent Error 100.00\n",
      "Input = 12 Ex= 3  Pr 2.87  Error= 0.13  in percent Error 4.43\n",
      "Input = 13 Ex= 9  Pr 2.95  Error= 6.05  in percent Error 205.56\n",
      "Input = 14 Ex= 3  Pr 3.02  Error= 0.02  in percent Error 0.60\n",
      "Input = 15 Ex= 2  Pr 3.09  Error= 1.09  in percent Error 35.29\n",
      "\n",
      "**Average Error for the Next 5   2.018181818181818\n"
     ]
    },
    {
     "data": {
      "image/png": "[encoded data removed]",
      "text/plain": [
       "<Figure size 432x288 with 1 Axes>"
      ]
     },
     "metadata": {
      "needs_background": "light"
     },
     "output_type": "display_data"
    }
   ],
   "source": [
    "#Test With First 10 data\n",
    "First_TenDataFults=[];\n",
    "First_TenDataInput=[];\n",
    "for i in range(1,11):\n",
    "    First_TenDataInput.append(i)\n",
    "    First_TenDataFults.append(df['Fault'][i])\n",
    "    \n",
    "mean_x=np.mean(First_TenDataInput)\n",
    "mean_y=np.mean( First_TenDataFults)\n",
    "\n",
    "numer=0.0\n",
    "dnum=0.0\n",
    "\n",
    "for i in range(10):\n",
    "    numer+=(First_TenDataInput[i]-mean_x)*(First_TenDataFults[i]-mean_y)\n",
    "    dnum+=(First_TenDataInput[i]-mean_x)*(First_TenDataInput[i]-mean_x)\n",
    "\n",
    "cof_= numer/dnum\n",
    "print(cof_)\n",
    "intercept_=mean_y -(mean_x*cof_)\n",
    "print(intercept_)\n",
    "\n",
    "def predeict(x):\n",
    "    return x*cof_+intercept_\n",
    "\n",
    "predictResult=[]\n",
    "for i in range(1,11):\n",
    "    predictResult.append(predeict(i))\n",
    "    \n",
    "#predictResult\n",
    "plt.xlabel='Year'\n",
    "plt.ylabel='Fault'\n",
    "#plt.scatter(df.Year,df.percent,color='RED', marker='+')\n",
    "plt.plot(First_TenDataInput,First_TenDataFults,color='blue',marker='+')\n",
    "plt.plot(First_TenDataInput,predictResult,color='RED',marker='+')\n",
    "\n",
    "\n",
    "\n",
    "##PredictNext5data Analysis\n",
    "\n",
    "totalError=0.0;\n",
    "for i in range(11,16):\n",
    "    temp= predeict(i);\n",
    "    Error=abs(df['Fault'][i]- temp)\n",
    "    totalError+=Error;\n",
    "\n",
    "    tempP=(Error/temp)*100\n",
    "    print(\"Input =\",i,\"Ex=\",df['Fault'][i],\" Pr\",'%.2f'%temp,\" Error=\",'%.2f'%Error,\" in percent Error\",'%.2f'%tempP)\n",
    "\n",
    "print(\"\\n**Average Error for the Next 5  \", (totalError/5))                                                                  \n",
    "                                                               \n",
    "    "
   ]
  },
  {
   "cell_type": "code",
   "execution_count": 8,
   "metadata": {},
   "outputs": [
    {
     "name": "stdout",
     "output_type": "stream",
     "text": [
      "0\n",
      "6\n",
      "1\n",
      "1\n",
      "0\n",
      "<class 'pandas.core.series.Series'>\n"
     ]
    }
   ],
   "source": [
    "def hello(lista):\n",
    "    for i in lista:\n",
    "        print(i)\n",
    "    print(type(lista))\n",
    "\n",
    "        \n",
    "        \n",
    "        \n",
    "hello(df['Fault'][:5])       "
   ]
  },
  {
   "cell_type": "code",
   "execution_count": null,
   "metadata": {},
   "outputs": [],
   "source": []
  }
 ],
 "metadata": {
  "kernelspec": {
   "display_name": "Python 3",
   "language": "python",
   "name": "python3"
  },
  "language_info": {
   "codemirror_mode": {
    "name": "ipython",
    "version": 3
   },
   "file_extension": ".py",
   "mimetype": "text/x-python",
   "name": "python",
   "nbconvert_exporter": "python",
   "pygments_lexer": "ipython3",
   "version": "3.8.5"
  }
 },
 "nbformat": 4,
 "nbformat_minor": 4
}
