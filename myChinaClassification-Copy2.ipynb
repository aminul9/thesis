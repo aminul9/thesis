{
 "cells": [
  {
   "cell_type": "code",
   "execution_count": 18,
   "metadata": {
    "scrolled": true
   },
   "outputs": [
    {
     "name": "stdout",
     "output_type": "stream",
     "text": [
      "['China', 'Not_China']\n"
     ]
    }
   ],
   "source": [
    "#myChinaClassification.py\n",
    "# read pg-161-165 scikit-learn-docs.pdf\n",
    "import sklearn\n",
    "from sklearn import datasets\n",
    "from pprint import pprint \n",
    "from sklearn.feature_extraction.text import CountVectorizer\n",
    "from sklearn.feature_extraction.text import TfidfTransformer\n",
    "from sklearn.naive_bayes import MultinomialNB\n",
    "from sklearn.pipeline import Pipeline\n",
    "\n",
    "\n",
    "#my_categories = If None (default), load all the categories. If not None, list of category names to load (other categories ignored).\n",
    "my_path = r'/Users/aminulmac/Desktop/ChinaClassification/train'\n",
    "#decode_error='strict'[{‘strict’, ‘ignore’, ‘replace’}, \n",
    "\n",
    "china_train = sklearn.datasets.load_files(  my_path, \n",
    "                                            description=None, \n",
    "                                            categories=None, #load all category\n",
    "                                            load_content=True, \n",
    "                                            shuffle=True, \n",
    "                                            encoding='utf-8', \n",
    "                                            decode_error='replace', \n",
    "                                            random_state=0 )\n",
    "\n",
    "pprint(list(china_train.target_names))   ##name of folder inside train folder"
   ]
  },
  {
   "cell_type": "code",
   "execution_count": 19,
   "metadata": {},
   "outputs": [
    {
     "data": {
      "text/plain": [
       "4"
      ]
     },
     "execution_count": 19,
     "metadata": {},
     "output_type": "execute_result"
    }
   ],
   "source": [
    "len(china_train.filenames)  #number of files in train folder"
   ]
  },
  {
   "cell_type": "code",
   "execution_count": 7,
   "metadata": {},
   "outputs": [
    {
     "name": "stdout",
     "output_type": "stream",
     "text": [
      "['Chinese Macao',\n",
      " 'Tokyo Japan Chinese',\n",
      " 'Chinese Chinese Shanghai',\n",
      " 'Chinese Beijing Chinese']\n"
     ]
    }
   ],
   "source": [
    "pprint(china_train.data)  #the content of files under the  sub directory of train directory"
   ]
  },
  {
   "cell_type": "code",
   "execution_count": 30,
   "metadata": {},
   "outputs": [
    {
     "name": "stdout",
     "output_type": "stream",
     "text": [
      "X_train_counts =\n",
      "   (0, 1)\t1\n",
      "  (0, 3)\t1\n",
      "  (1, 1)\t1\n",
      "  (1, 5)\t1\n",
      "  (1, 2)\t1\n",
      "  (2, 1)\t2\n",
      "  (2, 4)\t1\n",
      "  (3, 1)\t2\n",
      "  (3, 0)\t1\n"
     ]
    }
   ],
   "source": [
    "count_vect = CountVectorizer()  # count_vect is the object of CountVectorizer\n",
    "\n",
    "\n",
    "X_train_counts = count_vect.fit_transform(china_train.data) \n",
    "#exampe chinese word how many times \n",
    "#in each file this this type of all information in X_tarin count\n",
    "\n",
    "print(\"X_train_counts =\\n\",X_train_counts) \n",
    "#content in X_train\n",
    "\n",
    "\n"
   ]
  },
  {
   "cell_type": "code",
   "execution_count": 31,
   "metadata": {},
   "outputs": [
    {
     "data": {
      "text/plain": [
       "(4, 6)"
      ]
     },
     "execution_count": 31,
     "metadata": {},
     "output_type": "execute_result"
    }
   ],
   "source": [
    "X_train_counts.shape # num of docs, vocabulary size "
   ]
  },
  {
   "cell_type": "code",
   "execution_count": 43,
   "metadata": {},
   "outputs": [
    {
     "name": "stdout",
     "output_type": "stream",
     "text": [
      "['beijing', 'chinese', 'japan', 'macao', 'shanghai', 'tokyo']\n"
     ]
    }
   ],
   "source": [
    "print(count_vect.get_feature_names()) # all tokens"
   ]
  },
  {
   "cell_type": "code",
   "execution_count": 44,
   "metadata": {},
   "outputs": [
    {
     "name": "stdout",
     "output_type": "stream",
     "text": [
      "[[0 1 0 1 0 0]\n",
      " [0 1 1 0 0 1]\n",
      " [0 2 0 0 1 0]\n",
      " [1 2 0 0 0 0]]\n"
     ]
    }
   ],
   "source": [
    "print(X_train_counts.toarray())   #print in matrix type"
   ]
  },
  {
   "cell_type": "code",
   "execution_count": 39,
   "metadata": {},
   "outputs": [
    {
     "name": "stdout",
     "output_type": "stream",
     "text": [
      "X_train_counts =\n",
      "   (0, 1)\t1\n",
      "  (0, 3)\t1\n",
      "  (1, 1)\t1\n",
      "  (1, 5)\t1\n",
      "  (1, 2)\t1\n",
      "  (2, 1)\t2\n",
      "  (2, 4)\t1\n",
      "  (3, 1)\t2\n",
      "  (3, 0)\t1\n"
     ]
    }
   ],
   "source": [
    "print(\"X_train_counts =\\n\",X_train_counts) ##exampe chinese word how many times \n",
    "#in each file this this type of all information in X_tarin count"
   ]
  },
  {
   "cell_type": "code",
   "execution_count": 10,
   "metadata": {},
   "outputs": [
    {
     "data": {
      "text/plain": [
       "(4, 6)"
      ]
     },
     "execution_count": 10,
     "metadata": {},
     "output_type": "execute_result"
    }
   ],
   "source": [
    "tf_transformer = TfidfTransformer(use_idf=False).fit(X_train_counts)\n",
    "X_train_tf = tf_transformer.transform(X_train_counts)\n",
    "X_train_tf.shape # num of docs, vocabulary size"
   ]
  },
  {
   "cell_type": "code",
   "execution_count": 45,
   "metadata": {},
   "outputs": [
    {
     "data": {
      "text/plain": [
       "(4, 6)"
      ]
     },
     "execution_count": 45,
     "metadata": {},
     "output_type": "execute_result"
    }
   ],
   "source": [
    "tfidf_transformer = TfidfTransformer()\n",
    "X_train_tfidf = tfidf_transformer.fit_transform(X_train_counts)\n",
    "X_train_tfidf.shape # num of docs, vocabulary size"
   ]
  },
  {
   "cell_type": "code",
   "execution_count": 41,
   "metadata": {},
   "outputs": [],
   "source": [
    "# Training a classifier\n",
    "clf = MultinomialNB().fit(X_train_tfidf, china_train.target)"
   ]
  },
  {
   "cell_type": "code",
   "execution_count": 42,
   "metadata": {},
   "outputs": [
    {
     "name": "stdout",
     "output_type": "stream",
     "text": [
      "X_new_counts.toarray() =\n",
      " [[0 1 1 0 0 1]]\n",
      "X_new_counts =\n",
      "   (0, 1)\t1\n",
      "  (0, 2)\t1\n",
      "  (0, 5)\t1\n",
      "X_new_tfidf =\n",
      "   (0, 5)\t0.5773502691896258\n",
      "  (0, 2)\t0.5773502691896258\n",
      "  (0, 1)\t0.5773502691896258\n",
      "probability =\n",
      " [[0.61450413 0.38549587]]\n",
      "[[-0.48693963 -0.95322479]]\n",
      "'Chinese Tokyo Japan' => China\n"
     ]
    }
   ],
   "source": [
    "docs_new = ['Chinese Tokyo Japan']\n",
    "X_new_counts = count_vect.transform(docs_new)\n",
    "print(\"X_new_counts.toarray() =\\n\", X_new_counts.toarray())\n",
    "print (\"X_new_counts =\\n\", X_new_counts)\n",
    "\n",
    "tfidf_transformer = TfidfTransformer()\n",
    "X_new_tfidf = tfidf_transformer.fit_transform(X_new_counts)\n",
    "print (\"X_new_tfidf =\\n\", X_new_tfidf)\n",
    "\n",
    "predicted = clf.predict(X_new_tfidf)\n",
    "probability = clf.predict_proba(X_new_tfidf)\n",
    "print (\"probability =\\n\", probability)\n",
    "print(clf.predict_log_proba(X_new_tfidf))\n",
    "for doc, category in zip(docs_new, predicted):\n",
    "        print('%r => %s' % (doc, china_train.target_names[category]))"
   ]
  },
  {
   "cell_type": "code",
   "execution_count": null,
   "metadata": {},
   "outputs": [],
   "source": []
  },
  {
   "cell_type": "code",
   "execution_count": null,
   "metadata": {},
   "outputs": [],
   "source": []
  }
 ],
 "metadata": {
  "kernelspec": {
   "display_name": "Python 3",
   "language": "python",
   "name": "python3"
  },
  "language_info": {
   "codemirror_mode": {
    "name": "ipython",
    "version": 3
   },
   "file_extension": ".py",
   "mimetype": "text/x-python",
   "name": "python",
   "nbconvert_exporter": "python",
   "pygments_lexer": "ipython3",
   "version": "3.7.4"
  }
 },
 "nbformat": 4,
 "nbformat_minor": 2
}
