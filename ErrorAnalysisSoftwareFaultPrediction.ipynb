{
 "cells": [
  {
   "cell_type": "code",
   "execution_count": 10,
   "metadata": {},
   "outputs": [
    {
     "data": {
      "text/html": [
       "<div>\n",
       "<style scoped>\n",
       "    .dataframe tbody tr th:only-of-type {\n",
       "        vertical-align: middle;\n",
       "    }\n",
       "\n",
       "    .dataframe tbody tr th {\n",
       "        vertical-align: top;\n",
       "    }\n",
       "\n",
       "    .dataframe thead th {\n",
       "        text-align: right;\n",
       "    }\n",
       "</style>\n",
       "<table border=\"1\" class=\"dataframe\">\n",
       "  <thead>\n",
       "    <tr style=\"text-align: right;\">\n",
       "      <th></th>\n",
       "      <th>Time</th>\n",
       "      <th>Fault</th>\n",
       "    </tr>\n",
       "  </thead>\n",
       "  <tbody>\n",
       "    <tr>\n",
       "      <th>0</th>\n",
       "      <td>0</td>\n",
       "      <td>0</td>\n",
       "    </tr>\n",
       "    <tr>\n",
       "      <th>1</th>\n",
       "      <td>1</td>\n",
       "      <td>6</td>\n",
       "    </tr>\n",
       "    <tr>\n",
       "      <th>2</th>\n",
       "      <td>2</td>\n",
       "      <td>1</td>\n",
       "    </tr>\n",
       "    <tr>\n",
       "      <th>3</th>\n",
       "      <td>3</td>\n",
       "      <td>1</td>\n",
       "    </tr>\n",
       "    <tr>\n",
       "      <th>4</th>\n",
       "      <td>4</td>\n",
       "      <td>0</td>\n",
       "    </tr>\n",
       "  </tbody>\n",
       "</table>\n",
       "</div>"
      ],
      "text/plain": [
       "    Time  Fault\n",
       "0      0      0\n",
       "1      1      6\n",
       "2      2      1\n",
       "3      3      1\n",
       "4      4      0"
      ]
     },
     "execution_count": 10,
     "metadata": {},
     "output_type": "execute_result"
    }
   ],
   "source": [
    "import pandas as pd\n",
    "import numpy as np\n",
    "import math \n",
    "import matplotlib.pyplot as plt\n",
    "import seaborn as sns\n",
    "df=pd.read_csv('soft.csv');\n",
    "df.head(5)"
   ]
  },
  {
   "cell_type": "code",
   "execution_count": null,
   "metadata": {},
   "outputs": [],
   "source": [
    "## Input 10data predict next 5 data"
   ]
  },
  {
   "cell_type": "code",
   "execution_count": 11,
   "metadata": {},
   "outputs": [
    {
     "data": {
      "text/html": [
       "<div>\n",
       "<style scoped>\n",
       "    .dataframe tbody tr th:only-of-type {\n",
       "        vertical-align: middle;\n",
       "    }\n",
       "\n",
       "    .dataframe tbody tr th {\n",
       "        vertical-align: top;\n",
       "    }\n",
       "\n",
       "    .dataframe thead th {\n",
       "        text-align: right;\n",
       "    }\n",
       "</style>\n",
       "<table border=\"1\" class=\"dataframe\">\n",
       "  <thead>\n",
       "    <tr style=\"text-align: right;\">\n",
       "      <th></th>\n",
       "      <th>Time</th>\n",
       "      <th>Fault</th>\n",
       "    </tr>\n",
       "  </thead>\n",
       "  <tbody>\n",
       "    <tr>\n",
       "      <th>0</th>\n",
       "      <td>0</td>\n",
       "      <td>0</td>\n",
       "    </tr>\n",
       "    <tr>\n",
       "      <th>1</th>\n",
       "      <td>1</td>\n",
       "      <td>6</td>\n",
       "    </tr>\n",
       "    <tr>\n",
       "      <th>2</th>\n",
       "      <td>2</td>\n",
       "      <td>7</td>\n",
       "    </tr>\n",
       "    <tr>\n",
       "      <th>3</th>\n",
       "      <td>3</td>\n",
       "      <td>8</td>\n",
       "    </tr>\n",
       "    <tr>\n",
       "      <th>4</th>\n",
       "      <td>4</td>\n",
       "      <td>8</td>\n",
       "    </tr>\n",
       "  </tbody>\n",
       "</table>\n",
       "</div>"
      ],
      "text/plain": [
       "    Time  Fault\n",
       "0      0      0\n",
       "1      1      6\n",
       "2      2      7\n",
       "3      3      8\n",
       "4      4      8"
      ]
     },
     "execution_count": 11,
     "metadata": {},
     "output_type": "execute_result"
    }
   ],
   "source": [
    "length=len(df['Fault'])\n",
    "sum=0;\n",
    "for i in range(1,length):\n",
    "    sum= sum+df['Fault'][i]\n",
    "    df['Fault'][i]=sum\n",
    "    #print(sum)\n",
    "df.head(5)\n"
   ]
  },
  {
   "cell_type": "code",
   "execution_count": 19,
   "metadata": {},
   "outputs": [],
   "source": [
    "#Test With First 10 data\n",
    "First_TenDataFults=[];\n",
    "First_TenDataInput=[];\n",
    "for i in range(1,11):\n",
    "    First_TenDataInput.append(i)\n",
    "    First_TenDataFults.append(df['Fault'][i])\n",
    "    \n",
    "mean_x=np.mean(First_TenDataInput)\n",
    "mean_y=np.mean( First_TenDataFults)\n",
    "\n",
    "numer=0.0\n",
    "dnum=0.0\n",
    "\n",
    "for i in range(10):\n",
    "    numer+=(First_TenDataInput[i]-mean_x)*(First_TenDataFults[i]-mean_y)\n",
    "    dnum+=(First_TenDataInput[i]-mean_x)*(First_TenDataInput[i]-mean_x)\n",
    "    "
   ]
  },
  {
   "cell_type": "code",
   "execution_count": 20,
   "metadata": {},
   "outputs": [
    {
     "name": "stdout",
     "output_type": "stream",
     "text": [
      "2.0242424242424244\n",
      "1.466666666666665\n"
     ]
    }
   ],
   "source": [
    "cof_= numer/dnum\n",
    "print(cof_)\n",
    "intercept_=mean_y -(mean_x*cof_)\n",
    "print(intercept_)"
   ]
  },
  {
   "cell_type": "code",
   "execution_count": 21,
   "metadata": {},
   "outputs": [],
   "source": [
    "def predeict(x):\n",
    "    return x*cof_+intercept_"
   ]
  },
  {
   "cell_type": "code",
   "execution_count": 32,
   "metadata": {},
   "outputs": [],
   "source": [
    "predictResult=[]\n",
    "for i in range(1,11):\n",
    "    predictResult.append(predeict(i))\n",
    "    \n",
    "#predictResult"
   ]
  },
  {
   "cell_type": "code",
   "execution_count": 31,
   "metadata": {},
   "outputs": [
    {
     "data": {
      "text/plain": [
       "[<matplotlib.lines.Line2D at 0x7fa742b55130>]"
      ]
     },
     "execution_count": 31,
     "metadata": {},
     "output_type": "execute_result"
    },
    {
     "data": {
      "image/png": "[encoded data removed]",
      "text/plain": [
       "<Figure size 432x288 with 1 Axes>"
      ]
     },
     "metadata": {
      "needs_background": "light"
     },
     "output_type": "display_data"
    }
   ],
   "source": [
    "\n",
    "\n",
    "plt.xlabel='Year'\n",
    "plt.ylabel='Fault'\n",
    "#plt.scatter(df.Year,df.percent,color='RED', marker='+')\n",
    "plt.plot(First_TenDataInput,First_TenDataFults,color='blue',marker='+')\n",
    "plt.plot(First_TenDataInput,predictResult,color='RED',marker='+')"
   ]
  },
  {
   "cell_type": "code",
   "execution_count": 34,
   "metadata": {},
   "outputs": [
    {
     "name": "stdout",
     "output_type": "stream",
     "text": [
      "Input = 11 Ex= 24  Pr 23.73  Error= 0.27  in percent Error 1.12\n",
      "Input = 12 Ex= 27  Pr 25.76  Error= 1.24  in percent Error 4.82\n",
      "Input = 13 Ex= 36  Pr 27.78  Error= 8.22  in percent Error 29.58\n",
      "Input = 14 Ex= 39  Pr 29.81  Error= 9.19  in percent Error 30.85\n",
      "Input = 15 Ex= 41  Pr 31.83  Error= 9.17  in percent Error 28.81\n",
      "\n",
      "**Average Error for the Next 5   5.618181818181817\n"
     ]
    }
   ],
   "source": [
    "##PredictNext5data Analysis\n",
    "\n",
    "totalError=0.0;\n",
    "for i in range(11,16):\n",
    "    temp= predeict(i);\n",
    "    Error=abs(df['Fault'][i]- temp)\n",
    "    totalError+=Error;\n",
    "\n",
    "    tempP=(Error/temp)*100\n",
    "    print(\"Input =\",i,\"Ex=\",df['Fault'][i],\" Pr\",'%.2f'%temp,\" Error=\",'%.2f'%Error,\" in percent Error\",'%.2f'%tempP)\n",
    "\n",
    "print(\"\\n**Average Error for the Next 5  \", (totalError/5))                                                                  \n",
    "                                                               \n",
    "    "
   ]
  },
  {
   "cell_type": "code",
   "execution_count": 38,
   "metadata": {},
   "outputs": [
    {
     "name": "stdout",
     "output_type": "stream",
     "text": [
      "2.6669172932330825\n",
      "-1.6526315789473642\n"
     ]
    },
    {
     "data": {
      "text/plain": [
       "[<matplotlib.lines.Line2D at 0x7fa742d234c0>]"
      ]
     },
     "execution_count": 38,
     "metadata": {},
     "output_type": "execute_result"
    },
    {
     "data": {
      "image/png": "[encoded data removed]",
      "text/plain": [
       "<Figure size 432x288 with 1 Axes>"
      ]
     },
     "metadata": {
      "needs_background": "light"
     },
     "output_type": "display_data"
    }
   ],
   "source": [
    "## Input 20data predict next 10 data\n",
    "\n",
    "#Test With First 10 data\n",
    "First_TenDataFults=[];\n",
    "First_TenDataInput=[];\n",
    "for i in range(1,21):\n",
    "    First_TenDataInput.append(i)\n",
    "    First_TenDataFults.append(df['Fault'][i])\n",
    "    \n",
    "mean_x=np.mean(First_TenDataInput)\n",
    "mean_y=np.mean( First_TenDataFults)\n",
    "\n",
    "numer=0.0\n",
    "dnum=0.0\n",
    "\n",
    "for i in range(20):\n",
    "    numer+=(First_TenDataInput[i]-mean_x)*(First_TenDataFults[i]-mean_y)\n",
    "    dnum+=(First_TenDataInput[i]-mean_x)*(First_TenDataInput[i]-mean_x)\n",
    "    \n",
    "cof_= numer/dnum\n",
    "print(cof_)\n",
    "intercept_=mean_y -(mean_x*cof_)\n",
    "print(intercept_)\n",
    "    \n",
    "\n",
    "\n",
    "predictResult=[]\n",
    "for i in range(1,21):\n",
    "    predictResult.append(predeict(i))\n",
    "    \n",
    "    \n",
    "\n",
    "plt.xlabel='Year'\n",
    "plt.ylabel='Fault'\n",
    "#plt.scatter(df.Year,df.percent,color='RED', marker='+')\n",
    "plt.plot(First_TenDataInput,First_TenDataFults,color='blue',marker='+')\n",
    "plt.plot(First_TenDataInput,predictResult,color='RED',marker='+')"
   ]
  },
  {
   "cell_type": "code",
   "execution_count": 41,
   "metadata": {},
   "outputs": [
    {
     "name": "stdout",
     "output_type": "stream",
     "text": [
      "Input = 21 Ex= 50  Pr 54.35  Error= 4.35  in percent Error 8.01\n",
      "Input = 22 Ex= 50  Pr 57.02  Error= 7.02  in percent Error 12.31\n",
      "Input = 23 Ex= 50  Pr 59.69  Error= 9.69  in percent Error 16.23\n",
      "Input = 24 Ex= 50  Pr 62.35  Error= 12.35  in percent Error 19.81\n",
      "Input = 25 Ex= 52  Pr 65.02  Error= 13.02  in percent Error 20.02\n",
      "Input = 26 Ex= 52  Pr 67.69  Error= 15.69  in percent Error 23.18\n",
      "Input = 27 Ex= 52  Pr 70.35  Error= 18.35  in percent Error 26.09\n",
      "Input = 28 Ex= 54  Pr 73.02  Error= 19.02  in percent Error 26.05\n",
      "Input = 29 Ex= 57  Pr 75.69  Error= 18.69  in percent Error 24.69\n",
      "Input = 30 Ex= 68  Pr 78.35  Error= 10.35  in percent Error 13.22\n",
      "\n",
      "**Average Error for the Next 10   12.853759398496237\n"
     ]
    }
   ],
   "source": [
    "##PredictNext10data Analysis\n",
    "\n",
    "totalError=0.0;\n",
    "for i in range(21,31):\n",
    "    temp= predeict(i);\n",
    "    Error=abs(df['Fault'][i]- temp)\n",
    "    totalError+=Error;\n",
    "\n",
    "    tempP=(Error/temp)*100\n",
    "    print(\"Input =\",i,\"Ex=\",df['Fault'][i],\" Pr\",'%.2f'%temp,\" Error=\",'%.2f'%Error,\" in percent Error\",'%.2f'%tempP)\n",
    "\n",
    "print(\"\\n**Average Error for the Next 10  \", (totalError/10))                                                                  \n",
    "                                                               "
   ]
  },
  {
   "cell_type": "code",
   "execution_count": 42,
   "metadata": {},
   "outputs": [
    {
     "name": "stdout",
     "output_type": "stream",
     "text": [
      "2.2264540337711067\n",
      "1.5076923076923094\n"
     ]
    },
    {
     "data": {
      "text/plain": [
       "[<matplotlib.lines.Line2D at 0x7fa742dffbb0>]"
      ]
     },
     "execution_count": 42,
     "metadata": {},
     "output_type": "execute_result"
    },
    {
     "data": {
      "image/png": "[encoded data removed]",
      "text/plain": [
       "<Figure size 432x288 with 1 Axes>"
      ]
     },
     "metadata": {
      "needs_background": "light"
     },
     "output_type": "display_data"
    }
   ],
   "source": [
    "## Input 40data predict next 13 data\n",
    "\n",
    "#Test With First 10 data\n",
    "First_TenDataFults=[];\n",
    "First_TenDataInput=[];\n",
    "for i in range(1,41):\n",
    "    First_TenDataInput.append(i)\n",
    "    First_TenDataFults.append(df['Fault'][i])\n",
    "    \n",
    "mean_x=np.mean(First_TenDataInput)\n",
    "mean_y=np.mean( First_TenDataFults)\n",
    "\n",
    "numer=0.0\n",
    "dnum=0.0\n",
    "\n",
    "for i in range(20):\n",
    "    numer+=(First_TenDataInput[i]-mean_x)*(First_TenDataFults[i]-mean_y)\n",
    "    dnum+=(First_TenDataInput[i]-mean_x)*(First_TenDataInput[i]-mean_x)\n",
    "    \n",
    "cof_= numer/dnum\n",
    "print(cof_)\n",
    "intercept_=mean_y -(mean_x*cof_)\n",
    "print(intercept_)\n",
    "    \n",
    "\n",
    "\n",
    "predictResult=[]\n",
    "for i in range(1,41):\n",
    "    predictResult.append(predeict(i))\n",
    "    \n",
    "    \n",
    "\n",
    "plt.xlabel='Year'\n",
    "plt.ylabel='Fault'\n",
    "#plt.scatter(df.Year,df.percent,color='RED', marker='+')\n",
    "plt.plot(First_TenDataInput,First_TenDataFults,color='blue',marker='+')\n",
    "plt.plot(First_TenDataInput,predictResult,color='RED',marker='+')"
   ]
  },
  {
   "cell_type": "code",
   "execution_count": 43,
   "metadata": {},
   "outputs": [
    {
     "name": "stdout",
     "output_type": "stream",
     "text": [
      "Input = 41 Ex= 91  Pr 92.79  Error= 1.79  in percent Error 1.93\n",
      "Input = 42 Ex= 91  Pr 95.02  Error= 4.02  in percent Error 4.23\n",
      "Input = 43 Ex= 92  Pr 97.25  Error= 5.25  in percent Error 5.39\n",
      "Input = 44 Ex= 98  Pr 99.47  Error= 1.47  in percent Error 1.48\n",
      "Input = 45 Ex= 100  Pr 101.70  Error= 1.70  in percent Error 1.67\n",
      "Input = 46 Ex= 100  Pr 103.92  Error= 3.92  in percent Error 3.78\n",
      "Input = 47 Ex= 105  Pr 106.15  Error= 1.15  in percent Error 1.08\n",
      "Input = 48 Ex= 115  Pr 108.38  Error= 6.62  in percent Error 6.11\n",
      "Input = 49 Ex= 118  Pr 110.60  Error= 7.40  in percent Error 6.69\n",
      "Input = 50 Ex= 121  Pr 112.83  Error= 8.17  in percent Error 7.24\n",
      "Input = 51 Ex= 123  Pr 115.06  Error= 7.94  in percent Error 6.90\n",
      "Input = 52 Ex= 124  Pr 117.28  Error= 6.72  in percent Error 5.73\n",
      "Input = 53 Ex= 124  Pr 119.51  Error= 4.49  in percent Error 3.76\n",
      "\n",
      "**Average Error for the Next 13   4.664612498195987\n"
     ]
    }
   ],
   "source": [
    "##PredictNext13data Analysis\n",
    "\n",
    "totalError=0.0;\n",
    "for i in range(41,54):\n",
    "    temp= predeict(i);\n",
    "    Error=abs(df['Fault'][i]- temp)\n",
    "    totalError+=Error;\n",
    "\n",
    "    tempP=(Error/temp)*100\n",
    "    print(\"Input =\",i,\"Ex=\",df['Fault'][i],\" Pr\",'%.2f'%temp,\" Error=\",'%.2f'%Error,\" in percent Error\",'%.2f'%tempP)\n",
    "\n",
    "print(\"\\n**Average Error for the Next 13  \", (totalError/13))                                                                  \n",
    "                                                               "
   ]
  },
  {
   "cell_type": "code",
   "execution_count": null,
   "metadata": {},
   "outputs": [],
   "source": []
  }
 ],
 "metadata": {
  "kernelspec": {
   "display_name": "Python 3",
   "language": "python",
   "name": "python3"
  },
  "language_info": {
   "codemirror_mode": {
    "name": "ipython",
    "version": 3
   },
   "file_extension": ".py",
   "mimetype": "text/x-python",
   "name": "python",
   "nbconvert_exporter": "python",
   "pygments_lexer": "ipython3",
   "version": "3.8.5"
  }
 },
 "nbformat": 4,
 "nbformat_minor": 4
}
