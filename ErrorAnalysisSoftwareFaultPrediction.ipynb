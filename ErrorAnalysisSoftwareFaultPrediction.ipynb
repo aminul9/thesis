{
 "cells": [
  {
   "cell_type": "code",
   "execution_count": 6,
   "metadata": {},
   "outputs": [
    {
     "data": {
      "text/html": [
       "<div>\n",
       "<style scoped>\n",
       "    .dataframe tbody tr th:only-of-type {\n",
       "        vertical-align: middle;\n",
       "    }\n",
       "\n",
       "    .dataframe tbody tr th {\n",
       "        vertical-align: top;\n",
       "    }\n",
       "\n",
       "    .dataframe thead th {\n",
       "        text-align: right;\n",
       "    }\n",
       "</style>\n",
       "<table border=\"1\" class=\"dataframe\">\n",
       "  <thead>\n",
       "    <tr style=\"text-align: right;\">\n",
       "      <th></th>\n",
       "      <th>Time</th>\n",
       "      <th>Fault</th>\n",
       "    </tr>\n",
       "  </thead>\n",
       "  <tbody>\n",
       "    <tr>\n",
       "      <th>0</th>\n",
       "      <td>0</td>\n",
       "      <td>0</td>\n",
       "    </tr>\n",
       "    <tr>\n",
       "      <th>1</th>\n",
       "      <td>1</td>\n",
       "      <td>6</td>\n",
       "    </tr>\n",
       "    <tr>\n",
       "      <th>2</th>\n",
       "      <td>2</td>\n",
       "      <td>1</td>\n",
       "    </tr>\n",
       "    <tr>\n",
       "      <th>3</th>\n",
       "      <td>3</td>\n",
       "      <td>1</td>\n",
       "    </tr>\n",
       "    <tr>\n",
       "      <th>4</th>\n",
       "      <td>4</td>\n",
       "      <td>0</td>\n",
       "    </tr>\n",
       "  </tbody>\n",
       "</table>\n",
       "</div>"
      ],
      "text/plain": [
       "   Time  Fault\n",
       "0     0      0\n",
       "1     1      6\n",
       "2     2      1\n",
       "3     3      1\n",
       "4     4      0"
      ]
     },
     "execution_count": 6,
     "metadata": {},
     "output_type": "execute_result"
    }
   ],
   "source": [
    "import pandas as pd\n",
    "import numpy as np\n",
    "import math \n",
    "import matplotlib.pyplot as plt\n",
    "df=pd.read_csv('soft1.csv');\n",
    "df.head(5)"
   ]
  },
  {
   "cell_type": "code",
   "execution_count": 7,
   "metadata": {},
   "outputs": [],
   "source": [
    "## Input 10data predict next 5 data"
   ]
  },
  {
   "cell_type": "code",
   "execution_count": 8,
   "metadata": {},
   "outputs": [
    {
     "data": {
      "text/html": [
       "<div>\n",
       "<style scoped>\n",
       "    .dataframe tbody tr th:only-of-type {\n",
       "        vertical-align: middle;\n",
       "    }\n",
       "\n",
       "    .dataframe tbody tr th {\n",
       "        vertical-align: top;\n",
       "    }\n",
       "\n",
       "    .dataframe thead th {\n",
       "        text-align: right;\n",
       "    }\n",
       "</style>\n",
       "<table border=\"1\" class=\"dataframe\">\n",
       "  <thead>\n",
       "    <tr style=\"text-align: right;\">\n",
       "      <th></th>\n",
       "      <th>Time</th>\n",
       "      <th>Fault</th>\n",
       "    </tr>\n",
       "  </thead>\n",
       "  <tbody>\n",
       "    <tr>\n",
       "      <th>0</th>\n",
       "      <td>0</td>\n",
       "      <td>0</td>\n",
       "    </tr>\n",
       "    <tr>\n",
       "      <th>1</th>\n",
       "      <td>1</td>\n",
       "      <td>6</td>\n",
       "    </tr>\n",
       "    <tr>\n",
       "      <th>2</th>\n",
       "      <td>2</td>\n",
       "      <td>7</td>\n",
       "    </tr>\n",
       "    <tr>\n",
       "      <th>3</th>\n",
       "      <td>3</td>\n",
       "      <td>8</td>\n",
       "    </tr>\n",
       "    <tr>\n",
       "      <th>4</th>\n",
       "      <td>4</td>\n",
       "      <td>8</td>\n",
       "    </tr>\n",
       "  </tbody>\n",
       "</table>\n",
       "</div>"
      ],
      "text/plain": [
       "   Time  Fault\n",
       "0     0      0\n",
       "1     1      6\n",
       "2     2      7\n",
       "3     3      8\n",
       "4     4      8"
      ]
     },
     "execution_count": 8,
     "metadata": {},
     "output_type": "execute_result"
    }
   ],
   "source": [
    "length=len(df['Fault'])\n",
    "sum=0;\n",
    "for i in range(1,length):\n",
    "    sum= sum+df['Fault'][i]\n",
    "    df['Fault'][i]=sum\n",
    "    #print(sum)\n",
    "df.head(5)\n"
   ]
  },
  {
   "cell_type": "code",
   "execution_count": 9,
   "metadata": {},
   "outputs": [
    {
     "name": "stdout",
     "output_type": "stream",
     "text": [
      "mean x,y 5.5 12.6\n"
     ]
    }
   ],
   "source": [
    "#Test With First 10 data\n",
    "First_TenDataFults=[];\n",
    "First_TenDataInput=[];\n",
    "for i in range(1,11):\n",
    "    First_TenDataInput.append(i)\n",
    "    First_TenDataFults.append(df['Fault'][i])\n",
    "    \n",
    "mean_x=np.mean(First_TenDataInput)\n",
    "mean_y=np.mean( First_TenDataFults)\n",
    "print(\"mean x,y\",mean_x,mean_y)\n",
    "\n",
    "\n",
    "numer=0.0\n",
    "dnum=0.0\n",
    "\n",
    "for i in range(len(First_TenDataInput)):\n",
    "    numer+=(First_TenDataInput[i]-mean_x)*(First_TenDataFults[i]-mean_y)\n",
    "    dnum+=(First_TenDataInput[i]-mean_x)*(First_TenDataInput[i]-mean_x)\n",
    "    "
   ]
  },
  {
   "cell_type": "code",
   "execution_count": 10,
   "metadata": {},
   "outputs": [
    {
     "name": "stdout",
     "output_type": "stream",
     "text": [
      "2.0242424242424244\n",
      "1.466666666666665\n"
     ]
    }
   ],
   "source": [
    "cof_= numer/dnum\n",
    "print(cof_)\n",
    "intercept_=mean_y -(mean_x*cof_)\n",
    "print(intercept_)"
   ]
  },
  {
   "cell_type": "code",
   "execution_count": 11,
   "metadata": {},
   "outputs": [],
   "source": [
    "def predeict(x):\n",
    "    return x*cof_+intercept_"
   ]
  },
  {
   "cell_type": "code",
   "execution_count": 12,
   "metadata": {},
   "outputs": [],
   "source": [
    "predictResult=[]\n",
    "for i in range(1,11):\n",
    "    predictResult.append(predeict(i))\n",
    "    \n",
    "#predictResult"
   ]
  },
  {
   "cell_type": "code",
   "execution_count": 13,
   "metadata": {},
   "outputs": [
    {
     "data": {
      "text/plain": [
       "[<matplotlib.lines.Line2D at 0x7f9c9f9ff220>]"
      ]
     },
     "execution_count": 13,
     "metadata": {},
     "output_type": "execute_result"
    },
    {
     "data": {
      "image/png": "[encoded data removed]",
      "text/plain": [
       "<Figure size 432x288 with 1 Axes>"
      ]
     },
     "metadata": {
      "needs_background": "light"
     },
     "output_type": "display_data"
    }
   ],
   "source": [
    "\n",
    "\n",
    "plt.xlabel='Year'\n",
    "plt.ylabel='Fault'\n",
    "#plt.scatter(df.Year,df.percent,color='RED', marker='+')\n",
    "plt.plot(First_TenDataInput,First_TenDataFults,color='blue',marker='+')\n",
    "plt.plot(First_TenDataInput,predictResult,color='RED',marker='+')"
   ]
  },
  {
   "cell_type": "code",
   "execution_count": 14,
   "metadata": {},
   "outputs": [
    {
     "name": "stdout",
     "output_type": "stream",
     "text": [
      "Input = 11 Ex= 24  Pr 23.73  Error= 0.27  in percent Error 1.12\n",
      "Input = 12 Ex= 27  Pr 25.76  Error= 1.24  in percent Error 4.82\n",
      "Input = 13 Ex= 36  Pr 27.78  Error= 8.22  in percent Error 29.58\n",
      "Input = 14 Ex= 39  Pr 29.81  Error= 9.19  in percent Error 30.85\n",
      "Input = 15 Ex= 41  Pr 31.83  Error= 9.17  in percent Error 28.81\n",
      "\n",
      "**Average Error for the Next 5   5.618181818181817\n"
     ]
    }
   ],
   "source": [
    "##PredictNext5data Analysis\n",
    "\n",
    "totalError=0.0;\n",
    "for i in range(11,16):\n",
    "    temp= predeict(i);\n",
    "    Error=abs(df['Fault'][i]- temp)\n",
    "    totalError+=Error;\n",
    "\n",
    "    tempP=(Error/temp)*100\n",
    "    print(\"Input =\",i,\"Ex=\",df['Fault'][i],\" Pr\",'%.2f'%temp,\" Error=\",'%.2f'%Error,\" in percent Error\",'%.2f'%tempP)\n",
    "\n",
    "print(\"\\n**Average Error for the Next 5  \", (totalError/5))                                                                  \n",
    "                                                               \n",
    "    "
   ]
  },
  {
   "cell_type": "code",
   "execution_count": 15,
   "metadata": {},
   "outputs": [
    {
     "name": "stdout",
     "output_type": "stream",
     "text": [
      "mean x,y 10.5 26.35\n",
      "2.6669172932330825\n",
      "-1.6526315789473642\n"
     ]
    },
    {
     "data": {
      "text/plain": [
       "[<matplotlib.lines.Line2D at 0x7f9c9f956ca0>]"
      ]
     },
     "execution_count": 15,
     "metadata": {},
     "output_type": "execute_result"
    },
    {
     "data": {
      "image/png": "[encoded data removed]",
      "text/plain": [
       "<Figure size 432x288 with 1 Axes>"
      ]
     },
     "metadata": {
      "needs_background": "light"
     },
     "output_type": "display_data"
    }
   ],
   "source": [
    "## Input 20data predict next 10 data\n",
    "\n",
    "#Test With First 10 data\n",
    "First_TenDataFults=[];\n",
    "First_TenDataInput=[];\n",
    "for i in range(1,21):\n",
    "    First_TenDataInput.append(i)\n",
    "    First_TenDataFults.append(df['Fault'][i])\n",
    "    \n",
    "mean_x=np.mean(First_TenDataInput)\n",
    "mean_y=np.mean( First_TenDataFults)\n",
    "print(\"mean x,y\",mean_x,mean_y)\n",
    "\n",
    "numer=0.0\n",
    "dnum=0.0\n",
    "\n",
    "for i in range(len(First_TenDataInput)):\n",
    "    numer+=(First_TenDataInput[i]-mean_x)*(First_TenDataFults[i]-mean_y)\n",
    "    dnum+=(First_TenDataInput[i]-mean_x)*(First_TenDataInput[i]-mean_x)\n",
    "    \n",
    "cof_= numer/dnum\n",
    "print(cof_)\n",
    "intercept_=mean_y -(mean_x*cof_)\n",
    "print(intercept_)\n",
    "    \n",
    "\n",
    "\n",
    "predictResult=[]\n",
    "for i in range(1,21):\n",
    "    predictResult.append(predeict(i))\n",
    "    \n",
    "    \n",
    "\n",
    "plt.xlabel='Year'\n",
    "plt.ylabel='Fault'\n",
    "#plt.scatter(df.Year,df.percent,color='RED', marker='+')\n",
    "plt.plot(First_TenDataInput,First_TenDataFults,color='blue',marker='+')\n",
    "plt.plot(First_TenDataInput,predictResult,color='RED',marker='+')"
   ]
  },
  {
   "cell_type": "code",
   "execution_count": 16,
   "metadata": {},
   "outputs": [
    {
     "name": "stdout",
     "output_type": "stream",
     "text": [
      "Input = 21 Ex= 50  Pr 54.35  Error= 4.35  in percent Error 8.01\n",
      "Input = 22 Ex= 50  Pr 57.02  Error= 7.02  in percent Error 12.31\n",
      "Input = 23 Ex= 50  Pr 59.69  Error= 9.69  in percent Error 16.23\n",
      "Input = 24 Ex= 50  Pr 62.35  Error= 12.35  in percent Error 19.81\n",
      "Input = 25 Ex= 52  Pr 65.02  Error= 13.02  in percent Error 20.02\n",
      "Input = 26 Ex= 52  Pr 67.69  Error= 15.69  in percent Error 23.18\n",
      "Input = 27 Ex= 52  Pr 70.35  Error= 18.35  in percent Error 26.09\n",
      "Input = 28 Ex= 54  Pr 73.02  Error= 19.02  in percent Error 26.05\n",
      "Input = 29 Ex= 57  Pr 75.69  Error= 18.69  in percent Error 24.69\n",
      "Input = 30 Ex= 68  Pr 78.35  Error= 10.35  in percent Error 13.22\n",
      "Toatal Error  128.53759398496237 \n",
      "**Average Error for the Next 10   12.853759398496237\n"
     ]
    }
   ],
   "source": [
    "##PredictNext20 to 10data Analysis\n",
    "\n",
    "totalError=0.0;\n",
    "for i in range(21,31):\n",
    "    temp= predeict(i);\n",
    "    Error=abs(df['Fault'][i]- temp)\n",
    "    totalError+=Error;\n",
    "\n",
    "    tempP=(Error/temp)*100\n",
    "    print(\"Input =\",i,\"Ex=\",df['Fault'][i],\" Pr\",'%.2f'%temp,\" Error=\",'%.2f'%Error,\" in percent Error\",'%.2f'%tempP)\n",
    "\n",
    "print(\"Toatal Error \",totalError,\"\\n**Average Error for the Next 10  \", (totalError/10))                                                                  \n",
    "                                                               "
   ]
  },
  {
   "cell_type": "code",
   "execution_count": null,
   "metadata": {},
   "outputs": [],
   "source": []
  },
  {
   "cell_type": "code",
   "execution_count": null,
   "metadata": {},
   "outputs": [],
   "source": []
  },
  {
   "cell_type": "code",
   "execution_count": 17,
   "metadata": {},
   "outputs": [
    {
     "name": "stdout",
     "output_type": "stream",
     "text": [
      "15.5 35.4\n",
      "2.049833147942158\n",
      "3.6275862068965488\n"
     ]
    },
    {
     "data": {
      "text/plain": [
       "[<matplotlib.lines.Line2D at 0x7f9c9f8c0df0>]"
      ]
     },
     "execution_count": 17,
     "metadata": {},
     "output_type": "execute_result"
    },
    {
     "data": {
      "image/png": "[encoded data removed]",
      "text/plain": [
       "<Figure size 432x288 with 1 Axes>"
      ]
     },
     "metadata": {
      "needs_background": "light"
     },
     "output_type": "display_data"
    }
   ],
   "source": [
    "## Input 40data predict next 13 data\n",
    "\n",
    "#Test With First 10 data\n",
    "First_TenDataFults=[];\n",
    "First_TenDataInput=[];\n",
    "for i in range(1,31):\n",
    "    First_TenDataInput.append(i)\n",
    "    First_TenDataFults.append(df['Fault'][i])\n",
    "    \n",
    "mean_x=np.mean(First_TenDataInput)\n",
    "mean_y=np.mean( First_TenDataFults)\n",
    "print(mean_x,mean_y)\n",
    "\n",
    "numer=0.0\n",
    "dnum=0.0\n",
    "\n",
    "for i in range(len(First_TenDataInput)):\n",
    "    numer+=(First_TenDataInput[i]-mean_x)*(First_TenDataFults[i]-mean_y)\n",
    "    dnum+=(First_TenDataInput[i]-mean_x)*(First_TenDataInput[i]-mean_x)\n",
    "    \n",
    "cof_= numer/dnum\n",
    "print(cof_)\n",
    "intercept_=mean_y -(mean_x*cof_)\n",
    "print(intercept_)\n",
    "    \n",
    "\n",
    "\n",
    "predictResult=[]\n",
    "for i in range(1,31):\n",
    "    predictResult.append(predeict(i))\n",
    "    \n",
    "    \n",
    "\n",
    "plt.xlabel='Year'\n",
    "plt.ylabel='Fault'\n",
    "#plt.scatter(df.Year,df.percent,color='RED', marker='+')\n",
    "plt.plot(First_TenDataInput,First_TenDataFults,color='blue',marker='+')\n",
    "plt.plot(First_TenDataInput,predictResult,color='RED',marker='+')"
   ]
  },
  {
   "cell_type": "code",
   "execution_count": null,
   "metadata": {},
   "outputs": [],
   "source": []
  },
  {
   "cell_type": "code",
   "execution_count": null,
   "metadata": {},
   "outputs": [],
   "source": []
  },
  {
   "cell_type": "code",
   "execution_count": 18,
   "metadata": {},
   "outputs": [
    {
     "name": "stdout",
     "output_type": "stream",
     "text": [
      "Input = 31 Ex= 73  Pr 67.17  Error= 5.83  in percent Error 8.68\n",
      "Input = 32 Ex= 76  Pr 69.22  Error= 6.78  in percent Error 9.79\n",
      "Input = 33 Ex= 78  Pr 71.27  Error= 6.73  in percent Error 9.44\n",
      "Input = 34 Ex= 82  Pr 73.32  Error= 8.68  in percent Error 11.84\n",
      "Input = 35 Ex= 84  Pr 75.37  Error= 8.63  in percent Error 11.45\n",
      "Input = 36 Ex= 84  Pr 77.42  Error= 6.58  in percent Error 8.50\n",
      "Input = 37 Ex= 85  Pr 79.47  Error= 5.53  in percent Error 6.96\n",
      "Input = 38 Ex= 87  Pr 81.52  Error= 5.48  in percent Error 6.72\n",
      "Input = 39 Ex= 87  Pr 83.57  Error= 3.43  in percent Error 4.10\n",
      "Input = 40 Ex= 88  Pr 85.62  Error= 2.38  in percent Error 2.78\n",
      "Input = 41 Ex= 91  Pr 87.67  Error= 3.33  in percent Error 3.80\n",
      "Input = 42 Ex= 91  Pr 89.72  Error= 1.28  in percent Error 1.43\n",
      "Input = 43 Ex= 92  Pr 91.77  Error= 0.23  in percent Error 0.25\n",
      "Input = 44 Ex= 98  Pr 93.82  Error= 4.18  in percent Error 4.46\n",
      "Input = 45 Ex= 100  Pr 95.87  Error= 4.13  in percent Error 4.31\n",
      "\n",
      "**Average Error for the Next 15   4.878754171301441\n"
     ]
    }
   ],
   "source": [
    "##PredictNext13data Analysis\n",
    "\n",
    "totalError=0.0;\n",
    "for i in range(31,46):\n",
    "    temp= predeict(i);\n",
    "    Error=abs(df['Fault'][i]- temp)\n",
    "    totalError+=Error;\n",
    "\n",
    "    tempP=(Error/temp)*100\n",
    "    print(\"Input =\",i,\"Ex=\",df['Fault'][i],\" Pr\",'%.2f'%temp,\" Error=\",'%.2f'%Error,\" in percent Error\",'%.2f'%tempP)\n",
    "\n",
    "print(\"\\n**Average Error for the Next 15  \", (totalError/15))                                                                  \n",
    "                                                               "
   ]
  },
  {
   "cell_type": "code",
   "execution_count": null,
   "metadata": {},
   "outputs": [],
   "source": []
  },
  {
   "cell_type": "code",
   "execution_count": null,
   "metadata": {},
   "outputs": [],
   "source": []
  },
  {
   "cell_type": "code",
   "execution_count": null,
   "metadata": {},
   "outputs": [],
   "source": []
  }
 ],
 "metadata": {
  "kernelspec": {
   "display_name": "Python 3",
   "language": "python",
   "name": "python3"
  },
  "language_info": {
   "codemirror_mode": {
    "name": "ipython",
    "version": 3
   },
   "file_extension": ".py",
   "mimetype": "text/x-python",
   "name": "python",
   "nbconvert_exporter": "python",
   "pygments_lexer": "ipython3",
   "version": "3.8.5"
  }
 },
 "nbformat": 4,
 "nbformat_minor": 4
}
