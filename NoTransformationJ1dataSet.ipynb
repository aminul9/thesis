{
 "cells": [
  {
   "cell_type": "code",
   "execution_count": 29,
   "metadata": {},
   "outputs": [],
   "source": [
    "import pandas as pd\n",
    "import numpy as np\n",
    "import math \n",
    "import matplotlib.pyplot as plt\n",
    "df=pd.read_csv('soft5.csv');"
   ]
  },
  {
   "cell_type": "code",
   "execution_count": 30,
   "metadata": {},
   "outputs": [
    {
     "data": {
      "text/html": [
       "<div>\n",
       "<style scoped>\n",
       "    .dataframe tbody tr th:only-of-type {\n",
       "        vertical-align: middle;\n",
       "    }\n",
       "\n",
       "    .dataframe tbody tr th {\n",
       "        vertical-align: top;\n",
       "    }\n",
       "\n",
       "    .dataframe thead th {\n",
       "        text-align: right;\n",
       "    }\n",
       "</style>\n",
       "<table border=\"1\" class=\"dataframe\">\n",
       "  <thead>\n",
       "    <tr style=\"text-align: right;\">\n",
       "      <th></th>\n",
       "      <th>Time</th>\n",
       "      <th>Fault</th>\n",
       "    </tr>\n",
       "  </thead>\n",
       "  <tbody>\n",
       "    <tr>\n",
       "      <th>0</th>\n",
       "      <td>0</td>\n",
       "      <td>0</td>\n",
       "    </tr>\n",
       "    <tr>\n",
       "      <th>1</th>\n",
       "      <td>1</td>\n",
       "      <td>2</td>\n",
       "    </tr>\n",
       "    <tr>\n",
       "      <th>2</th>\n",
       "      <td>2</td>\n",
       "      <td>2</td>\n",
       "    </tr>\n",
       "    <tr>\n",
       "      <th>3</th>\n",
       "      <td>3</td>\n",
       "      <td>4</td>\n",
       "    </tr>\n",
       "    <tr>\n",
       "      <th>4</th>\n",
       "      <td>4</td>\n",
       "      <td>7</td>\n",
       "    </tr>\n",
       "  </tbody>\n",
       "</table>\n",
       "</div>"
      ],
      "text/plain": [
       "   Time  Fault\n",
       "0     0      0\n",
       "1     1      2\n",
       "2     2      2\n",
       "3     3      4\n",
       "4     4      7"
      ]
     },
     "execution_count": 30,
     "metadata": {},
     "output_type": "execute_result"
    }
   ],
   "source": [
    "length=len(df['Fault'])\n",
    "sum=0;\n",
    "for i in range(1,length):\n",
    "    sum= sum+df['Fault'][i]\n",
    "    df['Fault'][i]=sum\n",
    "    #print(sum)\n",
    "df.head(5)\n"
   ]
  },
  {
   "cell_type": "code",
   "execution_count": 31,
   "metadata": {},
   "outputs": [],
   "source": [
    "class LinarRegression:\n",
    "    def __init__ (self,TempDataInput, TempDataFaults):\n",
    "        self.TempDataInput=TempDataInput\n",
    "        self.TempDataFaults=TempDataFaults\n",
    "        self.predictResult=[]\n",
    "        \n",
    "    def calculation(self):\n",
    "        self.mean_x=np.mean(self.TempDataInput)\n",
    "        self.mean_y=np.mean(self.TempDataFaults)\n",
    "        print(\"MeanX and MeanY\",self.mean_x,self.mean_y)\n",
    "        \n",
    "        self.numer=0.0\n",
    "        self.dnum=0.0\n",
    "        \n",
    "        for i in range(len(self.TempDataInput)):\n",
    "            self.numer+=(self.TempDataInput[i]-self.mean_x)*(self.TempDataFaults[i]-self.mean_y)\n",
    "            self.dnum+=(self.TempDataInput[i]-self.mean_x)*(self.TempDataInput[i]-self.mean_x)\n",
    "            \n",
    "        self.cof_= self.numer/self.dnum\n",
    "        self.intercept_=self.mean_y -(self.mean_x*self.cof_)\n",
    "        \n",
    "        print(f\"Coefficiant {self.cof_}  and intercept {self.intercept_}\")\n",
    "        \n",
    "        for i in self.TempDataInput:\n",
    "            self.predictResult.append(i*self.cof_ +self.intercept_)\n",
    "            \n",
    "            \n",
    "    def DrawGraph(self):\n",
    "        plt.xlabel='Year'\n",
    "        plt.ylabel='Fault'\n",
    "        #plt.scatter(df.Year,df.percent,color='RED', marker='+')\n",
    "        plt.plot(self.TempDataInput,self.TempDataFaults,color='blue',marker='+')\n",
    "        plt.plot(self.TempDataInput,self.predictResult,color='RED',marker='+')\n",
    "        \n",
    "    def NextPrediction(self, start, end, dist):\n",
    "        ##PredictNext5data Analysis\n",
    "        self.totalError=0.0;\n",
    "        for i in range(start,end):\n",
    "            self.temp= i*self.cof_ +self.intercept_\n",
    "            self.Error=abs(df['Fault'][i]- self.temp)\n",
    "            self.totalError+=self.Error\n",
    "\n",
    "            self.tempP=(self.Error/self.temp)*100\n",
    "            print(\"Input =\",i,\"Ex=\",df['Fault'][i],\" Pr\",'%.2f'%self.temp,\" Error=\",'%.2f'%self.Error,\" in percent Error\",'%.2f'%self.tempP)\n",
    "        print(\"\\n**Average Error for the Next   \",dist,self.totalError, (self.totalError/dist))                                                                  \n",
    "                                                               \n",
    "    \n"
   ]
  },
  {
   "cell_type": "code",
   "execution_count": 32,
   "metadata": {},
   "outputs": [
    {
     "name": "stdout",
     "output_type": "stream",
     "text": [
      "MeanX and MeanY 5.5 19.5\n",
      "Coefficiant 5.8121212121212125  and intercept -12.466666666666669\n",
      "Input = 11 Ex= 60  Pr 51.47  Error= 8.53  in percent Error 16.58\n",
      "Input = 12 Ex= 65  Pr 57.28  Error= 7.72  in percent Error 13.48\n",
      "Input = 13 Ex= 69  Pr 63.09  Error= 5.91  in percent Error 9.37\n",
      "Input = 14 Ex= 75  Pr 68.90  Error= 6.10  in percent Error 8.85\n",
      "Input = 15 Ex= 85  Pr 74.72  Error= 10.28  in percent Error 13.77\n",
      "\n",
      "**Average Error for the Next    5 38.54545454545453 7.709090909090906\n"
     ]
    },
    {
     "data": {
      "image/png": "[encoded data removed]",
      "text/plain": [
       "<Figure size 432x288 with 1 Axes>"
      ]
     },
     "metadata": {
      "needs_background": "light"
     },
     "output_type": "display_data"
    }
   ],
   "source": [
    "##10*5\n",
    "First_TenDataInput=[];\n",
    "First_TenDataFults=[];\n",
    "for i in range(1,11):\n",
    "    First_TenDataInput.append(i)\n",
    "    First_TenDataFults.append(df['Fault'][i])\n",
    "\n",
    "l1=LinarRegression(First_TenDataInput,First_TenDataFults);    \n",
    "l1.calculation()\n",
    "l1.DrawGraph()\n",
    "l1.NextPrediction(11,16,5)\n",
    "del l1"
   ]
  },
  {
   "cell_type": "code",
   "execution_count": 33,
   "metadata": {},
   "outputs": [
    {
     "name": "stdout",
     "output_type": "stream",
     "text": [
      "MeanX and MeanY 10.5 54.4\n",
      "Coefficiant 6.88421052631579  and intercept -17.88421052631579\n",
      "Input = 21 Ex= 126  Pr 126.68  Error= 0.68  in percent Error 0.54\n",
      "Input = 22 Ex= 129  Pr 133.57  Error= 4.57  in percent Error 3.42\n",
      "Input = 23 Ex= 131  Pr 140.45  Error= 9.45  in percent Error 6.73\n",
      "Input = 24 Ex= 134  Pr 147.34  Error= 13.34  in percent Error 9.05\n",
      "Input = 25 Ex= 142  Pr 154.22  Error= 12.22  in percent Error 7.92\n",
      "Input = 26 Ex= 148  Pr 161.11  Error= 13.11  in percent Error 8.13\n",
      "Input = 27 Ex= 155  Pr 167.99  Error= 12.99  in percent Error 7.73\n",
      "Input = 28 Ex= 163  Pr 174.87  Error= 11.87  in percent Error 6.79\n",
      "Input = 29 Ex= 165  Pr 181.76  Error= 16.76  in percent Error 9.22\n",
      "Input = 30 Ex= 168  Pr 188.64  Error= 20.64  in percent Error 10.94\n",
      "\n",
      "**Average Error for the Next    10 115.63157894736838 11.563157894736838\n"
     ]
    },
    {
     "data": {
      "image/png": "[encoded data removed]",
      "text/plain": [
       "<Figure size 432x288 with 1 Axes>"
      ]
     },
     "metadata": {
      "needs_background": "light"
     },
     "output_type": "display_data"
    }
   ],
   "source": [
    "\n",
    "##20*10\n",
    "First_20DataInput=[];\n",
    "First_20DataFults=[];\n",
    "\n",
    "\n",
    "\n",
    "\n",
    "for i in range(1,21):\n",
    "    First_20DataInput.append(i)\n",
    "    First_20DataFults.append(df['Fault'][i])\n",
    "#print(First_20DataInput,np.mean(First_20DataInput))\n",
    "l2=LinarRegression(First_20DataInput,First_20DataFults);  \n",
    "l2.calculation()\n",
    "l2.DrawGraph()\n",
    "l2.NextPrediction(21,31,10)\n",
    "\n",
    "del l2"
   ]
  },
  {
   "cell_type": "code",
   "execution_count": 34,
   "metadata": {},
   "outputs": [
    {
     "name": "stdout",
     "output_type": "stream",
     "text": [
      "MeanX and MeanY 15.5 84.96666666666667\n",
      "Coefficiant 6.308120133481646  and intercept -12.80919540229884\n",
      "Input = 31 Ex= 172  Pr 182.74  Error= 10.74  in percent Error 5.88\n",
      "Input = 32 Ex= 175  Pr 189.05  Error= 14.05  in percent Error 7.43\n",
      "Input = 33 Ex= 178  Pr 195.36  Error= 17.36  in percent Error 8.89\n",
      "Input = 34 Ex= 182  Pr 201.67  Error= 19.67  in percent Error 9.75\n",
      "Input = 35 Ex= 186  Pr 207.98  Error= 21.98  in percent Error 10.57\n",
      "Input = 36 Ex= 191  Pr 214.28  Error= 23.28  in percent Error 10.87\n",
      "Input = 37 Ex= 195  Pr 220.59  Error= 25.59  in percent Error 11.60\n",
      "Input = 38 Ex= 199  Pr 226.90  Error= 27.90  in percent Error 12.30\n",
      "Input = 39 Ex= 204  Pr 233.21  Error= 29.21  in percent Error 12.52\n",
      "Input = 40 Ex= 205  Pr 239.52  Error= 34.52  in percent Error 14.41\n",
      "Input = 41 Ex= 209  Pr 245.82  Error= 36.82  in percent Error 14.98\n",
      "Input = 42 Ex= 217  Pr 252.13  Error= 35.13  in percent Error 13.93\n",
      "Input = 43 Ex= 220  Pr 258.44  Error= 38.44  in percent Error 14.87\n",
      "Input = 44 Ex= 222  Pr 264.75  Error= 42.75  in percent Error 16.15\n",
      "Input = 45 Ex= 228  Pr 271.06  Error= 43.06  in percent Error 15.88\n",
      "\n",
      "**Average Error for the Next    15 420.49054505005563 28.03270300333704\n"
     ]
    },
    {
     "data": {
      "image/png": "[encoded data removed]",
      "text/plain": [
       "<Figure size 432x288 with 1 Axes>"
      ]
     },
     "metadata": {
      "needs_background": "light"
     },
     "output_type": "display_data"
    }
   ],
   "source": [
    "##30*15\n",
    "First_30DataInput=[];\n",
    "First_30DataFults=[];\n",
    "\n",
    "for i in range(1,31):\n",
    "    First_30DataInput.append(i)\n",
    "    First_30DataFults.append(df['Fault'][i])\n",
    "\n",
    "l3=LinarRegression(First_30DataInput,First_30DataFults);    \n",
    "l3.calculation()\n",
    "l3.DrawGraph()\n",
    "l3.NextPrediction(31,46,15)\n",
    "del l3"
   ]
  },
  {
   "cell_type": "code",
   "execution_count": 35,
   "metadata": {},
   "outputs": [
    {
     "name": "stdout",
     "output_type": "stream",
     "text": [
      "MeanX and MeanY 20.5 110.9\n",
      "Coefficiant 5.640150093808631  and intercept -4.723076923076931\n",
      "Input = 41 Ex= 209  Pr 226.52  Error= 17.52  in percent Error 7.74\n",
      "Input = 42 Ex= 217  Pr 232.16  Error= 15.16  in percent Error 6.53\n",
      "Input = 43 Ex= 220  Pr 237.80  Error= 17.80  in percent Error 7.49\n",
      "Input = 44 Ex= 222  Pr 243.44  Error= 21.44  in percent Error 8.81\n",
      "Input = 45 Ex= 228  Pr 249.08  Error= 21.08  in percent Error 8.46\n",
      "Input = 46 Ex= 241  Pr 254.72  Error= 13.72  in percent Error 5.39\n",
      "Input = 47 Ex= 250  Pr 260.36  Error= 10.36  in percent Error 3.98\n",
      "Input = 48 Ex= 256  Pr 266.00  Error= 10.00  in percent Error 3.76\n",
      "Input = 49 Ex= 263  Pr 271.64  Error= 8.64  in percent Error 3.18\n",
      "Input = 50 Ex= 266  Pr 277.28  Error= 11.28  in percent Error 4.07\n",
      "Input = 51 Ex= 269  Pr 282.92  Error= 13.92  in percent Error 4.92\n",
      "Input = 52 Ex= 273  Pr 288.56  Error= 15.56  in percent Error 5.39\n",
      "Input = 53 Ex= 278  Pr 294.20  Error= 16.20  in percent Error 5.51\n",
      "Input = 54 Ex= 284  Pr 299.85  Error= 15.85  in percent Error 5.28\n",
      "Input = 55 Ex= 290  Pr 305.49  Error= 15.49  in percent Error 5.07\n",
      "\n",
      "**Average Error for the Next    15 224.06191369606069 14.937460913070712\n"
     ]
    },
    {
     "data": {
      "image/png": "[encoded data removed]",
      "text/plain": [
       "<Figure size 432x288 with 1 Axes>"
      ]
     },
     "metadata": {
      "needs_background": "light"
     },
     "output_type": "display_data"
    }
   ],
   "source": [
    "##40*15\n",
    "First_40DataInput=[];\n",
    "First_40DataFults=[];\n",
    "\n",
    "for i in range(1,41):\n",
    "    First_40DataInput.append(i)\n",
    "    First_40DataFults.append(df['Fault'][i])\n",
    "\n",
    "l4=LinarRegression(First_40DataInput,First_40DataFults);    \n",
    "l4.calculation()\n",
    "l4.DrawGraph()\n",
    "l4.NextPrediction(41,56,15)\n",
    "del l4"
   ]
  },
  {
   "cell_type": "code",
   "execution_count": null,
   "metadata": {},
   "outputs": [],
   "source": []
  },
  {
   "cell_type": "code",
   "execution_count": null,
   "metadata": {},
   "outputs": [],
   "source": []
  }
 ],
 "metadata": {
  "kernelspec": {
   "display_name": "Python 3",
   "language": "python",
   "name": "python3"
  },
  "language_info": {
   "codemirror_mode": {
    "name": "ipython",
    "version": 3
   },
   "file_extension": ".py",
   "mimetype": "text/x-python",
   "name": "python",
   "nbconvert_exporter": "python",
   "pygments_lexer": "ipython3",
   "version": "3.8.5"
  }
 },
 "nbformat": 4,
 "nbformat_minor": 4
}
