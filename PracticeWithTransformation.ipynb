{
 "cells": [
  {
   "cell_type": "code",
   "execution_count": 60,
   "metadata": {},
   "outputs": [
    {
     "data": {
      "text/html": [
       "<div>\n",
       "<style scoped>\n",
       "    .dataframe tbody tr th:only-of-type {\n",
       "        vertical-align: middle;\n",
       "    }\n",
       "\n",
       "    .dataframe tbody tr th {\n",
       "        vertical-align: top;\n",
       "    }\n",
       "\n",
       "    .dataframe thead th {\n",
       "        text-align: right;\n",
       "    }\n",
       "</style>\n",
       "<table border=\"1\" class=\"dataframe\">\n",
       "  <thead>\n",
       "    <tr style=\"text-align: right;\">\n",
       "      <th></th>\n",
       "      <th>Time</th>\n",
       "      <th>Fault</th>\n",
       "    </tr>\n",
       "  </thead>\n",
       "  <tbody>\n",
       "    <tr>\n",
       "      <th>0</th>\n",
       "      <td>0</td>\n",
       "      <td>0</td>\n",
       "    </tr>\n",
       "    <tr>\n",
       "      <th>1</th>\n",
       "      <td>1</td>\n",
       "      <td>6</td>\n",
       "    </tr>\n",
       "    <tr>\n",
       "      <th>2</th>\n",
       "      <td>2</td>\n",
       "      <td>1</td>\n",
       "    </tr>\n",
       "    <tr>\n",
       "      <th>3</th>\n",
       "      <td>3</td>\n",
       "      <td>1</td>\n",
       "    </tr>\n",
       "    <tr>\n",
       "      <th>4</th>\n",
       "      <td>4</td>\n",
       "      <td>0</td>\n",
       "    </tr>\n",
       "  </tbody>\n",
       "</table>\n",
       "</div>"
      ],
      "text/plain": [
       "    Time  Fault\n",
       "0      0      0\n",
       "1      1      6\n",
       "2      2      1\n",
       "3      3      1\n",
       "4      4      0"
      ]
     },
     "execution_count": 60,
     "metadata": {},
     "output_type": "execute_result"
    }
   ],
   "source": [
    "import pandas as pd\n",
    "import numpy as np\n",
    "import math \n",
    "import matplotlib.pyplot as plt\n",
    "df=pd.read_csv('soft.csv');\n",
    "df.head(5)"
   ]
  },
  {
   "cell_type": "code",
   "execution_count": 61,
   "metadata": {},
   "outputs": [],
   "source": [
    "length=len(df['Fault'])\n",
    "sum=0;\n",
    "for i in range(1,length):\n",
    "    sum= sum+df['Fault'][i]\n",
    "    df['Fault'][i]=sum\n",
    "    #print(sum)\n",
    "\n"
   ]
  },
  {
   "cell_type": "code",
   "execution_count": 62,
   "metadata": {},
   "outputs": [
    {
     "name": "stderr",
     "output_type": "stream",
     "text": [
      "<ipython-input-62-b68a73c0808b>:5: SettingWithCopyWarning: \n",
      "A value is trying to be set on a copy of a slice from a DataFrame\n",
      "\n",
      "See the caveats in the documentation: https://pandas.pydata.org/pandas-docs/stable/user_guide/indexing.html#returning-a-view-versus-a-copy\n",
      "  df['cvFault'][i]=math.log( df['cvFault'][i],10)\n"
     ]
    }
   ],
   "source": [
    "##Data Transformation when Lemda=zero\n",
    "df['cvFault']=df['Fault']\n",
    "df['cvFault']=df.cvFault.astype(float)\n",
    "for i in range(1,55):\n",
    "    df['cvFault'][i]=math.log( df['cvFault'][i],10)\n",
    "\n",
    "    "
   ]
  },
  {
   "cell_type": "code",
   "execution_count": 63,
   "metadata": {},
   "outputs": [
    {
     "name": "stdout",
     "output_type": "stream",
     "text": [
      "mean x,y 10.5 1.3216875714366967\n"
     ]
    }
   ],
   "source": [
    "#Test With First 21 data\n",
    "First_TenDataFults=[];\n",
    "First_TenDataInput=[];\n",
    "for i in range(1,21):\n",
    "    First_TenDataInput.append(i)\n",
    "    First_TenDataFults.append(df['cvFault'][i])\n",
    "    \n",
    "mean_x=np.mean(First_TenDataInput)\n",
    "mean_y=np.mean( First_TenDataFults)\n",
    "print(\"mean x,y\",mean_x,mean_y)\n",
    "\n",
    "\n",
    "numer=0.0\n",
    "dnum=0.0\n",
    "\n",
    "for i in range(len(First_TenDataInput)):\n",
    "    numer+=(First_TenDataInput[i]-mean_x)*(First_TenDataFults[i]-mean_y)\n",
    "    dnum+=(First_TenDataInput[i]-mean_x)*(First_TenDataInput[i]-mean_x)\n",
    "    "
   ]
  },
  {
   "cell_type": "code",
   "execution_count": 64,
   "metadata": {},
   "outputs": [
    {
     "name": "stdout",
     "output_type": "stream",
     "text": [
      "0.053260305935428985\n",
      "0.7624543591146924\n"
     ]
    }
   ],
   "source": [
    "cof_= numer/dnum\n",
    "print(cof_)\n",
    "intercept_=mean_y -(mean_x*cof_)\n",
    "print(intercept_)"
   ]
  },
  {
   "cell_type": "code",
   "execution_count": 65,
   "metadata": {},
   "outputs": [],
   "source": [
    "def predeict(x):\n",
    "    return x*cof_+intercept_"
   ]
  },
  {
   "cell_type": "code",
   "execution_count": 66,
   "metadata": {},
   "outputs": [],
   "source": [
    "predictResult=[]\n",
    "for i in range(1,21):\n",
    "    predictResult.append(predeict(i))\n",
    "    \n",
    "#predictResult"
   ]
  },
  {
   "cell_type": "code",
   "execution_count": 67,
   "metadata": {},
   "outputs": [
    {
     "data": {
      "text/plain": [
       "[<matplotlib.lines.Line2D at 0x7fc3e2a345b0>]"
      ]
     },
     "execution_count": 67,
     "metadata": {},
     "output_type": "execute_result"
    },
    {
     "data": {
      "image/png": "[encoded data removed]",
      "text/plain": [
       "<Figure size 432x288 with 1 Axes>"
      ]
     },
     "metadata": {
      "needs_background": "light"
     },
     "output_type": "display_data"
    }
   ],
   "source": [
    "\n",
    "\n",
    "plt.xlabel='Year'\n",
    "plt.ylabel='Fault'\n",
    "#plt.scatter(df.Year,df.percent,color='RED', marker='+')\n",
    "plt.plot(First_TenDataInput,First_TenDataFults,color='blue',marker='+')\n",
    "plt.plot(First_TenDataInput,predictResult,color='RED',marker='+')"
   ]
  },
  {
   "cell_type": "code",
   "execution_count": 71,
   "metadata": {},
   "outputs": [
    {
     "name": "stdout",
     "output_type": "stream",
     "text": [
      "1.880920783758701\n",
      "Input = 21 Ex= 50  Pr 76.02  Error= 26.02  in percent Error 34.23\n",
      "1.93418108969413\n",
      "Input = 22 Ex= 50  Pr 85.94  Error= 35.94  in percent Error 41.82\n",
      "1.9874413956295591\n",
      "Input = 23 Ex= 50  Pr 97.15  Error= 47.15  in percent Error 48.53\n",
      "2.0407017015649878\n",
      "Input = 24 Ex= 50  Pr 109.83  Error= 59.83  in percent Error 54.47\n",
      "2.093962007500417\n",
      "Input = 25 Ex= 52  Pr 124.15  Error= 72.15  in percent Error 58.12\n",
      "2.147222313435846\n",
      "Input = 26 Ex= 52  Pr 140.35  Error= 88.35  in percent Error 62.95\n",
      "2.200482619371275\n",
      "Input = 27 Ex= 52  Pr 158.67  Error= 106.67  in percent Error 67.23\n",
      "2.253742925306704\n",
      "Input = 28 Ex= 54  Pr 179.37  Error= 125.37  in percent Error 69.89\n",
      "2.307003231242133\n",
      "Input = 29 Ex= 57  Pr 202.77  Error= 145.77  in percent Error 71.89\n",
      "2.3602635371775618\n",
      "Input = 30 Ex= 68  Pr 229.23  Error= 161.23  in percent Error 70.33\n",
      "\n",
      "**Average Error for the Next 5   78.95151051511101\n"
     ]
    }
   ],
   "source": [
    "##PredictNext5data Analysis\n",
    "\n",
    "totalError=0.0;\n",
    "for i in range(21,31):\n",
    "    print(predeict(i))\n",
    "    temp=10** predeict(i);\n",
    "    Error=abs(df['Fault'][i]- temp)\n",
    "    totalError+=Error;\n",
    "\n",
    "    tempP=(Error/temp)*100\n",
    "    print(\"Input =\",i,\"Ex=\",df['Fault'][i],\" Pr\",'%.2f'%temp,\" Error=\",'%.2f'%Error,\" in percent Error\",'%.2f'%tempP)\n",
    "\n",
    "print(\"\\n**Average Error for the Next 5  \", (totalError/10))                                                                  \n",
    "                                                               \n",
    "    "
   ]
  },
  {
   "cell_type": "code",
   "execution_count": null,
   "metadata": {},
   "outputs": [],
   "source": []
  },
  {
   "cell_type": "code",
   "execution_count": 49,
   "metadata": {},
   "outputs": [
    {
     "name": "stdout",
     "output_type": "stream",
     "text": [
      "mean x,y 10.5 1.3216875714366967\n",
      "0.053260305935428985\n",
      "0.7624543591146924\n"
     ]
    }
   ],
   "source": [
    "#Test With First 21 data\n",
    "First_TenDataFults=[];\n",
    "First_TenDataInput=[];\n",
    "for i in range(1,21):\n",
    "    First_TenDataInput.append(i)\n",
    "    First_TenDataFults.append(df['cvFault'][i])\n",
    "    \n",
    "mean_x=np.mean(First_TenDataInput)\n",
    "mean_y=np.mean( First_TenDataFults)\n",
    "print(\"mean x,y\",mean_x,mean_y)\n",
    "\n",
    "\n",
    "numer=0.0\n",
    "dnum=0.0\n",
    "\n",
    "for i in range(len(First_TenDataInput)):\n",
    "    numer+=(First_TenDataInput[i]-mean_x)*(First_TenDataFults[i]-mean_y)\n",
    "    dnum+=(First_TenDataInput[i]-mean_x)*(First_TenDataInput[i]-mean_x)\n",
    "    \n",
    "    \n",
    "    \n",
    "cof_= numer/dnum\n",
    "print(cof_)\n",
    "intercept_=mean_y -(mean_x*cof_)\n",
    "print(intercept_)\n",
    "\n",
    "def predeict(x):\n",
    "    return x*cof_+intercept_\n",
    "\n",
    "predictResult=[]\n",
    "for i in range(1,21):\n",
    "    predictResult.append(predeict(i))\n",
    "    \n",
    "#predictResult\n"
   ]
  },
  {
   "cell_type": "code",
   "execution_count": 50,
   "metadata": {},
   "outputs": [
    {
     "data": {
      "text/plain": [
       "[<matplotlib.lines.Line2D at 0x7fc3e2b946a0>]"
      ]
     },
     "execution_count": 50,
     "metadata": {},
     "output_type": "execute_result"
    },
    {
     "data": {
      "image/png": "[encoded data removed]",
      "text/plain": [
       "<Figure size 432x288 with 1 Axes>"
      ]
     },
     "metadata": {
      "needs_background": "light"
     },
     "output_type": "display_data"
    }
   ],
   "source": [
    "\n",
    "\n",
    "plt.xlabel='Year'\n",
    "plt.ylabel='Fault'\n",
    "#plt.scatter(df.Year,df.percent,color='RED', marker='+')\n",
    "plt.plot(First_TenDataInput,First_TenDataFults,color='blue',marker='+')\n",
    "plt.plot(First_TenDataInput,predictResult,color='RED',marker='+')"
   ]
  }
 ],
 "metadata": {
  "kernelspec": {
   "display_name": "Python 3",
   "language": "python",
   "name": "python3"
  },
  "language_info": {
   "codemirror_mode": {
    "name": "ipython",
    "version": 3
   },
   "file_extension": ".py",
   "mimetype": "text/x-python",
   "name": "python",
   "nbconvert_exporter": "python",
   "pygments_lexer": "ipython3",
   "version": "3.8.5"
  }
 },
 "nbformat": 4,
 "nbformat_minor": 4
}
