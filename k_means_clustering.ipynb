{
 "cells": [
  {
   "cell_type": "code",
   "execution_count": 100,
   "metadata": {},
   "outputs": [],
   "source": [
    "import pandas as pd\n",
    "import numpy as np\n",
    "import matplotlib.pyplot as plt\n",
    "%matplotlib inline\n",
    "\n",
    "df= pd.DataFrame({\n",
    "    'x':[12, 20, 28, 18, 29, 33, 24, 45, 45, 52, 51, 52, 55, 53, 55, 61, 64, 69, 72],\n",
    "    'y':[39, 36, 30, 52, 54, 46, 55, 59, 63, 70, 66, 63, 58, 23, 14, 8, 19, 7, 24]\n",
    "})"
   ]
  },
  {
   "cell_type": "code",
   "execution_count": 101,
   "metadata": {},
   "outputs": [],
   "source": [
    "np.random.seed(200)\n",
    "k=3\n",
    "centroids={\n",
    "    i+1: [np.random.randint(0,80),np.random.randint(0,80)]\n",
    "    for i in range(k)\n",
    "}"
   ]
  },
  {
   "cell_type": "code",
   "execution_count": 102,
   "metadata": {},
   "outputs": [
    {
     "data": {
      "image/png": "[encoded data removed]",
      "text/plain": [
       "<Figure size 432x288 with 1 Axes>"
      ]
     },
     "metadata": {
      "needs_background": "light"
     },
     "output_type": "display_data"
    }
   ],
   "source": [
    "colmap={1:'r', 2:'g',3:'b'}\n",
    "\n",
    "plt.xlabel('X axis')\n",
    "plt.ylabel('Y axis')\n",
    "plt.xlim(0,80)\n",
    "plt.ylim(0,80)\n",
    "plt.scatter(df['x'], df['y'], color='k')\n",
    "\n",
    "for i in centroids.keys():\n",
    "    plt.scatter(*centroids[i],color=colmap[i])"
   ]
  },
  {
   "cell_type": "code",
   "execution_count": 110,
   "metadata": {},
   "outputs": [
    {
     "name": "stdout",
     "output_type": "stream",
     "text": [
      "['distance_from_1', 'distance_from_2', 'distance_from_3']\n"
     ]
    },
    {
     "data": {
      "text/plain": [
       "\"fig = plt.figure(figsize=(5, 5))\\nplt.scatter(df['x'], df['y'], color=df['color'], alpha=0.5, edgecolor='k')\\nfor i in centroids.keys():\\n    plt.scatter(*centroids[i], color=colmap[i])\\nplt.xlim(0, 80)\\nplt.ylim(0, 80)\\nplt.show()\""
      ]
     },
     "execution_count": 110,
     "metadata": {},
     "output_type": "execute_result"
    }
   ],
   "source": [
    "def assignment(df,centroids):\n",
    "    for i in centroids.keys():\n",
    "        # sqrt((x1 - x2)^2 - (y1 - y2)^2)\n",
    "        df['distance_from_{}'.format(i)] = (\n",
    "            np.sqrt(\n",
    "                (df['x'] - centroids[i][0]) ** 2\n",
    "                + (df['y'] - centroids[i][1]) ** 2\n",
    "            )\n",
    "        )\n",
    "    #print(df.head())\n",
    "    centroid_distance_cols = ['distance_from_{}'.format(i) for i in centroids.keys()]\n",
    "    print(centroid_distance_cols)\n",
    "    df['closest'] = df.loc[:, centroid_distance_cols].idxmin(axis=1)\n",
    "    df['closest'] = df['closest'].map(lambda x: int(x.lstrip('distance_from_')))\n",
    "    df['color'] = df['closest'].map(lambda x: colmap[x])\n",
    "    return df\n",
    "\n",
    "df=assignment(df,centroids)\n",
    "#print(df.head())\n",
    "\n",
    "\"\"\"fig = plt.figure(figsize=(5, 5))\n",
    "plt.scatter(df['x'], df['y'], color=df['color'], alpha=0.5, edgecolor='k')\n",
    "for i in centroids.keys():\n",
    "    plt.scatter(*centroids[i], color=colmap[i])\n",
    "plt.xlim(0, 80)\n",
    "plt.ylim(0, 80)\n",
    "plt.show()\"\"\""
   ]
  },
  {
   "cell_type": "code",
   "execution_count": null,
   "metadata": {},
   "outputs": [],
   "source": []
  },
  {
   "cell_type": "code",
   "execution_count": null,
   "metadata": {},
   "outputs": [],
   "source": [
    "\n"
   ]
  },
  {
   "cell_type": "code",
   "execution_count": 114,
   "metadata": {},
   "outputs": [
    {
     "data": {
      "text/plain": [
       "'plt.xlim(0, 80)\\nplt.ylim(0, 80)\\nfor i in old_centroids.keys():\\n    old_x = old_centroids[i][0]\\n    old_y = old_centroids[i][1]\\n    dx = (centroids[i][0] - old_centroids[i][0]) * 0.75\\n    dy = (centroids[i][1] - old_centroids[i][1]) * 0.75\\n    ax.arrow(old_x, old_y, dx, dy, head_width=2, head_length=3, fc=colmap[i], ec=colmap[i])\\nplt.show()'"
      ]
     },
     "execution_count": 114,
     "metadata": {},
     "output_type": "execute_result"
    },
    {
     "data": {
      "image/png": "[encoded data removed]",
      "text/plain": [
       "<Figure size 360x360 with 1 Axes>"
      ]
     },
     "metadata": {
      "needs_background": "light"
     },
     "output_type": "display_data"
    }
   ],
   "source": [
    "def update(k):\n",
    "    for i in centroids.keys():\n",
    "        centroids[i][0] = np.mean(df[df['closest'] == i]['x'])\n",
    "        centroids[i][1] = np.mean(df[df['closest'] == i]['y'])\n",
    "    return k\n",
    "\n",
    "centroids = update(centroids)\n",
    "    \n",
    "fig = plt.figure(figsize=(5, 5))\n",
    "ax = plt.axes()\n",
    "plt.scatter(df['x'], df['y'], color=df['color'], alpha=0.5, edgecolor='k')\n",
    "for i in centroids.keys():\n",
    "    plt.scatter(*centroids[i], color=colmap[i])\n",
    "\"\"\"plt.xlim(0, 80)\n",
    "plt.ylim(0, 80)\n",
    "for i in old_centroids.keys():\n",
    "    old_x = old_centroids[i][0]\n",
    "    old_y = old_centroids[i][1]\n",
    "    dx = (centroids[i][0] - old_centroids[i][0]) * 0.75\n",
    "    dy = (centroids[i][1] - old_centroids[i][1]) * 0.75\n",
    "    ax.arrow(old_x, old_y, dx, dy, head_width=2, head_length=3, fc=colmap[i], ec=colmap[i])\n",
    "plt.show()\"\"\""
   ]
  },
  {
   "cell_type": "code",
   "execution_count": 24,
   "metadata": {},
   "outputs": [
    {
     "data": {
      "image/png": "[encoded data removed]",
      "text/plain": [
       "<Figure size 360x360 with 1 Axes>"
      ]
     },
     "metadata": {
      "needs_background": "light"
     },
     "output_type": "display_data"
    }
   ],
   "source": [
    "df = assignment(df, centroids)\n",
    "\n",
    "# Plot results\n",
    "fig = plt.figure(figsize=(5, 5))\n",
    "plt.scatter(df['x'], df['y'], color=df['color'], alpha=0.5, edgecolor='k')\n",
    "for i in centroids.keys():\n",
    "    plt.scatter(*centroids[i], color=colmap[i])\n",
    "plt.xlim(0, 80)\n",
    "plt.ylim(0, 80)\n",
    "plt.show()"
   ]
  },
  {
   "cell_type": "code",
   "execution_count": 117,
   "metadata": {},
   "outputs": [
    {
     "name": "stdout",
     "output_type": "stream",
     "text": [
      "['distance_from_1', 'distance_from_2', 'distance_from_3']\n"
     ]
    },
    {
     "data": {
      "image/png": "[encoded data removed]",
      "text/plain": [
       "<Figure size 360x360 with 1 Axes>"
      ]
     },
     "metadata": {
      "needs_background": "light"
     },
     "output_type": "display_data"
    }
   ],
   "source": [
    "while True:\n",
    "    closest_centroids = df['closest'].copy(deep=True)\n",
    "    centroids = update(centroids)\n",
    "    df = assignment(df, centroids)\n",
    "    if closest_centroids.equals(df['closest']):\n",
    "        break\n",
    "\n",
    "fig = plt.figure(figsize=(5, 5))\n",
    "plt.scatter(df['x'], df['y'], color=df['color'])\n",
    "for i in centroids.keys():\n",
    "    plt.scatter(*centroids[i], color=colmap[i])\n",
    "plt.xlim(0, 80)\n",
    "plt.ylim(0, 80)\n",
    "plt.show()"
   ]
  },
  {
   "cell_type": "code",
   "execution_count": null,
   "metadata": {},
   "outputs": [],
   "source": []
  }
 ],
 "metadata": {
  "kernelspec": {
   "display_name": "Python 3",
   "language": "python",
   "name": "python3"
  },
  "language_info": {
   "codemirror_mode": {
    "name": "ipython",
    "version": 3
   },
   "file_extension": ".py",
   "mimetype": "text/x-python",
   "name": "python",
   "nbconvert_exporter": "python",
   "pygments_lexer": "ipython3",
   "version": "3.7.4"
  }
 },
 "nbformat": 4,
 "nbformat_minor": 2
}
